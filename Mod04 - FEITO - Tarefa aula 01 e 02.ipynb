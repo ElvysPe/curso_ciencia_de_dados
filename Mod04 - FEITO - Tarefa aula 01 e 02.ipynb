{
 "cells": [
  {
   "cell_type": "markdown",
   "metadata": {},
   "source": [
    "# Tarefa 01\n",
    "\n",
    "- Leia os enunciados com atenção\n",
    "- Saiba que pode haver mais de uma resposta correta\n",
    "- Insira novas células de código sempre que achar necessário\n",
    "- Em caso de dúvidas, procure os tutores\n",
    "- Divirta-se :)\n",
    "\n",
    "#### 1)  crie uma série do pandas a partir de uma lista com os dados abaixo:\n",
    "\n",
    "Em um estudo sobre alteração na tempreatura global, A NASA disponibiliza dados de diferenças de de temperatura média da superfície terrestre relativos às médias de temperatura entre 1951 e 1980. Os dados originais podem ser vistos no site da NASA/GISS, e estão dispostos a cada década na tabela abaixo.\n",
    "\n",
    "|ano|anomalia termica|\n",
    "|:-:|:----:|\n",
    "| 1900 | -0.08 |\n",
    "| 1920 | -0.27 |\n",
    "| 1940 | 0.12 |\n",
    "| 1960 | -0.03 |\n",
    "| 1980 | 0.26 |\n",
    "| 2000 | 0.40 |\n",
    "| 2020 | 1.02 |\n",
    "\n",
    "Crie uma séries do Pandas a partir de uma lista com esses dados."
   ]
  },
  {
   "cell_type": "code",
   "execution_count": 10,
   "metadata": {},
   "outputs": [
    {
     "name": "stdout",
     "output_type": "stream",
     "text": [
      "0   -0.08\n",
      "1   -0.27\n",
      "2    0.12\n",
      "3   -0.03\n",
      "4    0.26\n",
      "5    0.40\n",
      "6    1.02\n",
      "dtype: float64\n"
     ]
    }
   ],
   "source": [
    "import pandas as pd\n",
    "import numpy as np\n",
    "\n",
    "# Seu código aqui\n",
    "\n",
    "anomalia_termica = [-0.08, -0.27, 0.12, -0.03, 0.26, 0.40, 1.02]\n",
    "\n",
    "serie_anomalia_termica = pd.Series(anomalia_termica)\n",
    "\n",
    "print(serie_anomalia_termica)"
   ]
  },
  {
   "cell_type": "markdown",
   "metadata": {},
   "source": [
    "#### 2) Coloque os anos nos índices conforme a tabela."
   ]
  },
  {
   "cell_type": "code",
   "execution_count": 12,
   "metadata": {},
   "outputs": [
    {
     "name": "stdout",
     "output_type": "stream",
     "text": [
      "1900   -0.08\n",
      "1920   -0.27\n",
      "1940    0.12\n",
      "1960   -0.03\n",
      "1980    0.26\n",
      "2000    0.40\n",
      "2020    1.02\n",
      "dtype: float64\n"
     ]
    }
   ],
   "source": [
    "\n",
    "# seu código aqui\n",
    "ano = [1900, 1920, 1940, 1960, 1980, 2000, 2020]\n",
    "\n",
    "serie_anomalia_termica = pd.Series(anomalia_termica, index=ano)\n",
    "\n",
    "print(serie_anomalia_termica)"
   ]
  },
  {
   "cell_type": "markdown",
   "metadata": {},
   "source": [
    "#### 3) A partir do dicionário abaixo, crie uma séries do Pandas:"
   ]
  },
  {
   "cell_type": "code",
   "execution_count": 14,
   "metadata": {},
   "outputs": [
    {
     "name": "stdout",
     "output_type": "stream",
     "text": [
      "1900   -0.08\n",
      "1920   -0.27\n",
      "1940    0.12\n",
      "1960   -0.03\n",
      "1980    0.26\n",
      "2000    0.40\n",
      "2020    1.02\n",
      "dtype: float64\n"
     ]
    }
   ],
   "source": [
    "dic_temperaturas = {1900: -.08, 1920: -.27, 1940: .12, 1960: -.03, 1980: .26, 2000: .40, 2020: 1.02}\n",
    "\n",
    "# seu código aqui\n",
    "\n",
    "serie_temperaturas = pd.Series(dic_temperaturas)\n",
    "\n",
    "print(serie_temperaturas)"
   ]
  },
  {
   "cell_type": "markdown",
   "metadata": {},
   "source": [
    "#### 4) Transforme o ndarray abaixo em um dataframe. \n",
    "O numpy é capaz de gerar arrays n-dimensionais com números pseudo-aleatórios de acordo com uma variedade de distribuições, como no exemplo abaixo. Transforme esse nd-array em um DataFrame."
   ]
  },
  {
   "cell_type": "code",
   "execution_count": 15,
   "metadata": {},
   "outputs": [
    {
     "name": "stdout",
     "output_type": "stream",
     "text": [
      "             0           1           2\n",
      "0   102.789797   93.661522   97.491229\n",
      "1    98.053033   84.713937   95.266842\n",
      "2    95.868537  112.234269   87.338091\n",
      "3   110.133245   91.096503  110.873202\n",
      "4   102.030862   93.968819  104.967797\n",
      "5   109.560852   87.344139  118.149425\n",
      "6   100.976808   99.999036  109.384962\n",
      "7    93.123218   96.312493   99.136739\n",
      "8    99.647237   94.197041  127.369718\n",
      "9    83.952364  102.121919   90.004592\n",
      "10  103.108915  108.424844   80.050474\n",
      "11  110.970495  100.129901  105.519322\n",
      "12  113.216682  103.366618   93.168080\n",
      "13  102.387733   86.116271  108.387369\n",
      "14   99.101006  105.131240   99.711461\n",
      "15   91.676378   87.463635   91.756833\n",
      "16  103.418772  100.372326  100.436696\n",
      "17   90.940495  106.495448   94.360620\n",
      "18  109.958937  112.857201  120.777508\n",
      "19  100.619848  103.553724  109.736386\n"
     ]
    }
   ],
   "source": [
    "arr = np.random.normal(100, 10, (20,3))\n",
    "\n",
    "# seu código aqui\n",
    "\n",
    "df = pd.DataFrame(arr)\n",
    "\n",
    "print(df)"
   ]
  },
  {
   "cell_type": "markdown",
   "metadata": {},
   "source": [
    "#### 5) Nomeie os índices das linhas com inteiros de 1 a 20, e as colunas com os nomes \"x1\", \"x2\", e \"x3\" respectivamente."
   ]
  },
  {
   "cell_type": "code",
   "execution_count": 16,
   "metadata": {},
   "outputs": [
    {
     "name": "stdout",
     "output_type": "stream",
     "text": [
      "            x1          x2          x3\n",
      "1   102.789797   93.661522   97.491229\n",
      "2    98.053033   84.713937   95.266842\n",
      "3    95.868537  112.234269   87.338091\n",
      "4   110.133245   91.096503  110.873202\n",
      "5   102.030862   93.968819  104.967797\n",
      "6   109.560852   87.344139  118.149425\n",
      "7   100.976808   99.999036  109.384962\n",
      "8    93.123218   96.312493   99.136739\n",
      "9    99.647237   94.197041  127.369718\n",
      "10   83.952364  102.121919   90.004592\n",
      "11  103.108915  108.424844   80.050474\n",
      "12  110.970495  100.129901  105.519322\n",
      "13  113.216682  103.366618   93.168080\n",
      "14  102.387733   86.116271  108.387369\n",
      "15   99.101006  105.131240   99.711461\n",
      "16   91.676378   87.463635   91.756833\n",
      "17  103.418772  100.372326  100.436696\n",
      "18   90.940495  106.495448   94.360620\n",
      "19  109.958937  112.857201  120.777508\n",
      "20  100.619848  103.553724  109.736386\n"
     ]
    }
   ],
   "source": [
    "#seu código aqui\n",
    "\n",
    "indices = range(1, 21)\n",
    "colunas = ['x1', 'x2', 'x3']\n",
    "\n",
    "df = pd.DataFrame(arr, index=indices, columns=colunas)\n",
    "\n",
    "print(df)"
   ]
  },
  {
   "cell_type": "markdown",
   "metadata": {},
   "source": [
    "#### 6) No DataFrame do exercício 5, crie uma nova coluna como sendo a média das três colunas, e dê a ela o nome de \"media\" (não recomendo colocar acentos em nomes de variáveis)."
   ]
  },
  {
   "cell_type": "code",
   "execution_count": 17,
   "metadata": {},
   "outputs": [
    {
     "name": "stdout",
     "output_type": "stream",
     "text": [
      "            x1          x2          x3       media\n",
      "1   102.789797   93.661522   97.491229   97.980850\n",
      "2    98.053033   84.713937   95.266842   92.677937\n",
      "3    95.868537  112.234269   87.338091   98.480299\n",
      "4   110.133245   91.096503  110.873202  104.034317\n",
      "5   102.030862   93.968819  104.967797  100.322493\n",
      "6   109.560852   87.344139  118.149425  105.018139\n",
      "7   100.976808   99.999036  109.384962  103.453602\n",
      "8    93.123218   96.312493   99.136739   96.190817\n",
      "9    99.647237   94.197041  127.369718  107.071332\n",
      "10   83.952364  102.121919   90.004592   92.026292\n",
      "11  103.108915  108.424844   80.050474   97.194744\n",
      "12  110.970495  100.129901  105.519322  105.539906\n",
      "13  113.216682  103.366618   93.168080  103.250460\n",
      "14  102.387733   86.116271  108.387369   98.963791\n",
      "15   99.101006  105.131240   99.711461  101.314569\n",
      "16   91.676378   87.463635   91.756833   90.298949\n",
      "17  103.418772  100.372326  100.436696  101.409265\n",
      "18   90.940495  106.495448   94.360620   97.265521\n",
      "19  109.958937  112.857201  120.777508  114.531215\n",
      "20  100.619848  103.553724  109.736386  104.636653\n"
     ]
    }
   ],
   "source": [
    "# seu código aqui\n",
    "\n",
    "media = df.mean(axis=1)\n",
    "\n",
    "df['media'] = media\n",
    "\n",
    "print(df)"
   ]
  },
  {
   "cell_type": "markdown",
   "metadata": {},
   "source": [
    "#### 7) No DataFrame do exercício 6, crie uma nova coluna chamada \"log_med\", contendo o logaritmo natural da média calculada no exercício 6 <br>"
   ]
  },
  {
   "cell_type": "code",
   "execution_count": 18,
   "metadata": {},
   "outputs": [
    {
     "name": "stdout",
     "output_type": "stream",
     "text": [
      "            x1          x2          x3       media   log_med\n",
      "1   102.789797   93.661522   97.491229   97.980850  4.584772\n",
      "2    98.053033   84.713937   95.266842   92.677937  4.529130\n",
      "3    95.868537  112.234269   87.338091   98.480299  4.589857\n",
      "4   110.133245   91.096503  110.873202  104.034317  4.644721\n",
      "5   102.030862   93.968819  104.967797  100.322493  4.608390\n",
      "6   109.560852   87.344139  118.149425  105.018139  4.654133\n",
      "7   100.976808   99.999036  109.384962  103.453602  4.639123\n",
      "8    93.123218   96.312493   99.136739   96.190817  4.566334\n",
      "9    99.647237   94.197041  127.369718  107.071332  4.673495\n",
      "10   83.952364  102.121919   90.004592   92.026292  4.522074\n",
      "11  103.108915  108.424844   80.050474   97.194744  4.576717\n",
      "12  110.970495  100.129901  105.519322  105.539906  4.659089\n",
      "13  113.216682  103.366618   93.168080  103.250460  4.637158\n",
      "14  102.387733   86.116271  108.387369   98.963791  4.594754\n",
      "15   99.101006  105.131240   99.711461  101.314569  4.618230\n",
      "16   91.676378   87.463635   91.756833   90.298949  4.503126\n",
      "17  103.418772  100.372326  100.436696  101.409265  4.619164\n",
      "18   90.940495  106.495448   94.360620   97.265521  4.577445\n",
      "19  109.958937  112.857201  120.777508  114.531215  4.740847\n",
      "20  100.619848  103.553724  109.736386  104.636653  4.650494\n"
     ]
    }
   ],
   "source": [
    "# seu código aqui\n",
    "\n",
    "df['log_med'] = np.log(media)\n",
    "\n",
    "print(df)"
   ]
  },
  {
   "cell_type": "code",
   "execution_count": null,
   "metadata": {},
   "outputs": [],
   "source": []
  }
 ],
 "metadata": {
  "kernelspec": {
   "display_name": "Python 3 (ipykernel)",
   "language": "python",
   "name": "python3"
  },
  "language_info": {
   "codemirror_mode": {
    "name": "ipython",
    "version": 3
   },
   "file_extension": ".py",
   "mimetype": "text/x-python",
   "name": "python",
   "nbconvert_exporter": "python",
   "pygments_lexer": "ipython3",
   "version": "3.9.7"
  }
 },
 "nbformat": 4,
 "nbformat_minor": 4
}
